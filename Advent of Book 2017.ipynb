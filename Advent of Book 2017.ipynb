{
 "cells": [
  {
   "cell_type": "markdown",
   "metadata": {},
   "source": [
    "# [Advent of Book](https://milessteele.com/advent-of-book/)\n",
    "\n",
    "These are the solutions to my 2017 “Advent of Book” Christmas present. (Thanks, Miles!)\n",
    "\n",
    "Also see the original [Advent of Code](https://adventofcode.com), and [my solutions](https://github.com/osteele/notebooks/blob/master/Advent%20of%20Code%202017.ipynb)."
   ]
  },
  {
   "cell_type": "markdown",
   "metadata": {},
   "source": [
    "> Santa slipped on the roof and fumbled your link. He's a-ok, but as your link tumbled down the chimney it was **xor**d with the string `hohoho` (repeated). Then it was frozen by a flurry of hexadecimal snowflakes."
   ]
  },
  {
   "cell_type": "markdown",
   "metadata": {},
   "source": [
    "Some imports and a utility function:"
   ]
  },
  {
   "cell_type": "code",
   "execution_count": 1,
   "metadata": {
    "ExecuteTime": {
     "end_time": "2017-12-30T20:07:27.911446Z",
     "start_time": "2017-12-30T15:07:27.908616-05:00"
    }
   },
   "outputs": [],
   "source": [
    "import operator\n",
    "from itertools import *\n",
    "from re import findall\n",
    "\n",
    "join = ''.join  # join a sequence of strings into a single string"
   ]
  },
  {
   "cell_type": "markdown",
   "metadata": {},
   "source": [
    "Initialize the puzzle parameters:"
   ]
  },
  {
   "cell_type": "code",
   "execution_count": 2,
   "metadata": {
    "ExecuteTime": {
     "end_time": "2017-12-30T19:14:47.969199Z",
     "start_time": "2017-12-30T14:14:47.966655-05:00"
    },
    "scrolled": true
   },
   "outputs": [],
   "source": [
    "CODE = '001b1c1f1b5547401f181f410902091 50701460c070247081840181d070b1d 0c1c400306060b040a451d0d0b0d021 81b010006402a5f3730373037303730 570401013a0a0c0a0d02552821293c4 90306063d0d0b0d0a053b07040d0155 283b30373037303730373037303730'\n",
    "PAD = 'hohoho'"
   ]
  },
  {
   "cell_type": "markdown",
   "metadata": {
    "ExecuteTime": {
     "end_time": "2017-12-30T19:15:40.005731Z",
     "start_time": "2017-12-30T14:15:39.999295-05:00"
    }
   },
   "source": [
    "Convert the codestring from hex. XOR it with the (repeating) pad.\n",
    "\n",
    "`int` converts the hexadecimal string to an `int`.\n",
    "\n",
    "`join(CODE.split())` removes spaces. `CODE.replace(' ', '')` would have worked as well. (`split` removes whitespace while this call to `replace` removes only spaces, but they come to the same thing on this string.)\n",
    "\n",
    "`r'\\S{2}'` is a regular expression that matches two non-space characters. `r'\\S\\S'` would have been equivalent. Since the spaces have already been removed, `r'..'` would have also worked. The use of `\\S` is left over from a first attempt, where I didn't realize that some the spaces were *within* hexadecimal pairs.\n",
    "\n",
    "`cyphertext = […]` would have created a list. `cyphertext = (…)` creates a generator, instead. It therefore never requires memory for all the items in the sequence that it generates. This doesn't matter here – in fact, for such small datasets, it's performance and probably memory usage are probably worse – but it's a nice pattern to use for cryptographic and other data streams."
   ]
  },
  {
   "cell_type": "code",
   "execution_count": 3,
   "metadata": {
    "ExecuteTime": {
     "end_time": "2017-12-30T19:13:38.346473Z",
     "start_time": "2017-12-30T14:13:38.341175-05:00"
    },
    "scrolled": true
   },
   "outputs": [
    {
     "data": {
      "text/plain": [
       "'https://www.amazon.com/gp/product/kindle-redemption/B0________?kinRedeem=GIFT&kinRedeemToken=GS_____________'"
      ]
     },
     "execution_count": 3,
     "metadata": {},
     "output_type": "execute_result"
    }
   ],
   "source": [
    "cyphertext = (int(s, 16) for s in findall(r'\\S{2}', join(CODE.split())))\n",
    "template = join(map(chr, starmap(operator.xor, zip(cyphertext, cycle(map(ord, PAD))))))\n",
    "template"
   ]
  },
  {
   "cell_type": "markdown",
   "metadata": {},
   "source": [
    "We're not done yet!:\n",
    "\n",
    "> And that's not all...\n",
    "\n",
    "> After disentangling the link you will notice 2 gaps (runs of underscores) where letters fell out of the link. To fill the gaps, place the letters back in the index where they belong. To get the index where a letter belongs, sum its associated number with its ASCII value.\n",
    "\n",
    "Read the part 1 input from the web:"
   ]
  },
  {
   "cell_type": "code",
   "execution_count": 4,
   "metadata": {
    "ExecuteTime": {
     "end_time": "2017-12-30T19:59:00.327079Z",
     "start_time": "2017-12-30T14:59:00.243356-05:00"
    }
   },
   "outputs": [],
   "source": [
    "from urllib.request import urlopen\n",
    "\n",
    "INPUT1 = urlopen('https://milessteele.com/advent-of-book/input1.txt').read().decode()"
   ]
  },
  {
   "cell_type": "markdown",
   "metadata": {
    "ExecuteTime": {
     "end_time": "2017-12-30T19:52:44.653742Z",
     "start_time": "2017-12-30T14:52:44.646418-05:00"
    },
    "scrolled": false
   },
   "source": [
    "Create a map from string position to replacement character, as specified in the instructions. The regular expression matches a single character, followed by a single space, followed by the string representations of a (positive or negative) integer. `int` converts the string representation into an `int`; `ord` returns the `ASCII` value of a character (assuming the string is in ASCII, which it is here)."
   ]
  },
  {
   "cell_type": "code",
   "execution_count": 5,
   "metadata": {
    "ExecuteTime": {
     "end_time": "2017-12-30T19:10:00.047173Z",
     "start_time": "2017-12-30T14:09:59.961396-05:00"
    },
    "scrolled": true
   },
   "outputs": [
    {
     "name": "stdout",
     "output_type": "stream",
     "text": [
      "{96: '5', 97: '5', 98: 'C', 99: 'N', 100: 'W', 101: '3', 102: 'L', 103: '9', 104: 'Z', 105: 'A', 106: '8', 107: '3', 54: '0', 55: 'C', 56: 'K', 57: 'D', 58: 'F', 59: 'E', 60: '9', 61: 'W', 95: 'W'}\n"
     ]
    }
   ],
   "source": [
    "replacements = {int(n) + ord(c): c for c, n in findall(r'(.) (-?\\d+)', INPUT1)}\n",
    "print(replacements)"
   ]
  },
  {
   "cell_type": "markdown",
   "metadata": {},
   "source": [
    "Make a new string. It uses the character from the replacement map, for positions where there is one; and the character from the original string, where no replacement is specified.\n",
    "\n",
    "`print` in Jupyter makes the output a live link.\n",
    "\n",
    "[`starmap`](https://docs.python.org/3/library/itertools.html#itertools.starmap) is kind of advanced. See \"Other Approaches\", next, for alternatives that spell out what `starmap` is doing."
   ]
  },
  {
   "cell_type": "code",
   "execution_count": 6,
   "metadata": {
    "ExecuteTime": {
     "end_time": "2017-12-30T19:13:40.747760Z",
     "start_time": "2017-12-30T14:13:40.745098-05:00"
    },
    "scrolled": false
   },
   "outputs": [
    {
     "name": "stdout",
     "output_type": "stream",
     "text": [
      "https://www.amazon.com/gp/product/kindle-redemption/B00CKDFE9W?kinRedeem=GIFT&kinRedeemToken=GSW55CNW3L9ZA83\n"
     ]
    }
   ],
   "source": [
    "print(join(starmap(replacements.get, enumerate(template))))"
   ]
  },
  {
   "cell_type": "markdown",
   "metadata": {},
   "source": [
    "This is indeed a working link. You can't use it to claim my book, though – I've already claimed it!"
   ]
  },
  {
   "cell_type": "markdown",
   "metadata": {},
   "source": [
    "### Other Approaches"
   ]
  },
  {
   "cell_type": "markdown",
   "metadata": {},
   "source": [
    "This could also have been written more explicitly without `starmap`:"
   ]
  },
  {
   "cell_type": "code",
   "execution_count": 7,
   "metadata": {
    "ExecuteTime": {
     "end_time": "2017-12-30T19:20:11.952792Z",
     "start_time": "2017-12-30T14:20:11.949497-05:00"
    }
   },
   "outputs": [
    {
     "name": "stdout",
     "output_type": "stream",
     "text": [
      "https://www.amazon.com/gp/product/kindle-redemption/B00CKDFE9W?kinRedeem=GIFT&kinRedeemToken=GSW55CNW3L9ZA83\n"
     ]
    }
   ],
   "source": [
    "print(join(replacements.get(i, c) for i, c in enumerate(template)))"
   ]
  },
  {
   "cell_type": "markdown",
   "metadata": {},
   "source": [
    "Or with `[]` instead of `get`:"
   ]
  },
  {
   "cell_type": "code",
   "execution_count": 8,
   "metadata": {
    "ExecuteTime": {
     "end_time": "2017-12-30T19:20:47.214924Z",
     "start_time": "2017-12-30T14:20:47.211590-05:00"
    }
   },
   "outputs": [
    {
     "name": "stdout",
     "output_type": "stream",
     "text": [
      "https://www.amazon.com/gp/product/kindle-redemption/B00CKDFE9W?kinRedeem=GIFT&kinRedeemToken=GSW55CNW3L9ZA83\n"
     ]
    }
   ],
   "source": [
    "print(join(replacements[i] if i in replacements else c for i, c in enumerate(template)))"
   ]
  },
  {
   "cell_type": "markdown",
   "metadata": {},
   "source": [
    "Or with an explicit loop over the template:"
   ]
  },
  {
   "cell_type": "code",
   "execution_count": 9,
   "metadata": {
    "ExecuteTime": {
     "end_time": "2017-12-30T19:25:19.280294Z",
     "start_time": "2017-12-30T14:25:19.274338-05:00"
    }
   },
   "outputs": [
    {
     "name": "stdout",
     "output_type": "stream",
     "text": [
      "https://www.amazon.com/gp/product/kindle-redemption/B00CKDFE9W?kinRedeem=GIFT&kinRedeemToken=GSW55CNW3L9ZA83\n"
     ]
    }
   ],
   "source": [
    "link = ''\n",
    "for i, c in enumerate(template):\n",
    "    if i in replacements:\n",
    "        link += replacements[i]\n",
    "    else:\n",
    "        link += c\n",
    "print(link)"
   ]
  },
  {
   "cell_type": "markdown",
   "metadata": {},
   "source": [
    "…or a loop over the replacements:"
   ]
  },
  {
   "cell_type": "code",
   "execution_count": 10,
   "metadata": {
    "ExecuteTime": {
     "end_time": "2017-12-30T19:23:03.843001Z",
     "start_time": "2017-12-30T14:23:03.839463-05:00"
    }
   },
   "outputs": [
    {
     "name": "stdout",
     "output_type": "stream",
     "text": [
      "https://www.amazon.com/gp/product/kindle-redemption/B00CKDFE9W?kinRedeem=GIFT&kinRedeemToken=GSW55CNW3L9ZA83\n"
     ]
    }
   ],
   "source": [
    "link = list(template)\n",
    "for i, c in replacements.items():\n",
    "    link[i] = c\n",
    "print(join(link))"
   ]
  },
  {
   "cell_type": "markdown",
   "metadata": {},
   "source": [
    "### A note on performance"
   ]
  },
  {
   "cell_type": "markdown",
   "metadata": {},
   "source": [
    "Consider again:"
   ]
  },
  {
   "cell_type": "code",
   "execution_count": 11,
   "metadata": {
    "ExecuteTime": {
     "end_time": "2017-12-30T19:25:19.280294Z",
     "start_time": "2017-12-30T14:25:19.274338-05:00"
    }
   },
   "outputs": [
    {
     "name": "stdout",
     "output_type": "stream",
     "text": [
      "https://www.amazon.com/gp/product/kindle-redemption/B00CKDFE9W?kinRedeem=GIFT&kinRedeemToken=GSW55CNW3L9ZA83\n"
     ]
    }
   ],
   "source": [
    "link = ''\n",
    "for i, c in enumerate(template):\n",
    "    if i in replacements:\n",
    "        link += replacements[i]\n",
    "    else:\n",
    "        link += c\n",
    "print(link)"
   ]
  },
  {
   "cell_type": "markdown",
   "metadata": {},
   "source": [
    "Appending to strings is expensive. It copies the whole string each time. In performance-critical code (which this isn't), we'd make a list of a characters instead:"
   ]
  },
  {
   "cell_type": "code",
   "execution_count": 12,
   "metadata": {
    "ExecuteTime": {
     "end_time": "2017-12-30T20:05:25.525515Z",
     "start_time": "2017-12-30T15:05:25.521358-05:00"
    }
   },
   "outputs": [
    {
     "name": "stdout",
     "output_type": "stream",
     "text": [
      "https://www.amazon.com/gp/product/kindle-redemption/B00CKDFE9W?kinRedeem=GIFT&kinRedeemToken=GSW55CNW3L9ZA83\n"
     ]
    }
   ],
   "source": [
    "link = []\n",
    "for i, c in enumerate(template):\n",
    "    if i in replacements:\n",
    "        link.append(replacements[i])\n",
    "    else:\n",
    "        link.append(c)\n",
    "print(join(link))"
   ]
  },
  {
   "cell_type": "markdown",
   "metadata": {},
   "source": [
    "Or, write to a `StringIO`, and then use its value:"
   ]
  },
  {
   "cell_type": "code",
   "execution_count": 13,
   "metadata": {
    "ExecuteTime": {
     "end_time": "2017-12-30T20:06:19.123416Z",
     "start_time": "2017-12-30T15:06:19.118947-05:00"
    }
   },
   "outputs": [
    {
     "name": "stdout",
     "output_type": "stream",
     "text": [
      "https://www.amazon.com/gp/product/kindle-redemption/B00CKDFE9W?kinRedeem=GIFT&kinRedeemToken=GSW55CNW3L9ZA83\n"
     ]
    }
   ],
   "source": [
    "from io import StringIO\n",
    "\n",
    "link = StringIO()\n",
    "for i, c in enumerate(template):\n",
    "    if i in replacements:\n",
    "        link.write(replacements[i])\n",
    "    else:\n",
    "        link.write(c)\n",
    "print(link.getvalue())"
   ]
  },
  {
   "cell_type": "markdown",
   "metadata": {},
   "source": [
    "## [Part 2](https://milessteele.com/advent-of-book/part2.html)\n",
    "\n",
    "> The second link is much like the first, but has different fillers for the same gaps. Your puzzle input is a string of symbols. The number of times a symbol occurs in a row, plus a **magic number**, is the index where it belongs. The same symbol might have multiple indices.\n",
    ">\n",
    "> For example, if the **magic number** were 2, the link with gaps were `alm___ _o_e!`, and the puzzle input were as below. The answer would be `almost done!`.\n",
    ">\n",
    "> `nnnnnnntttodddddss`\n",
    ">\n",
    "> The magic number is 53."
   ]
  },
  {
   "cell_type": "markdown",
   "metadata": {},
   "source": [
    "Use a regex [back reference](https://www.regular-expressions.info/backref.html) to match a run of repeated characters. `(.)` matches any character. It's the second `(` in the regular expression, so `\\2` refers back to it. The outermost `(…)` matches the whole expression, so its length is the number of repetitions."
   ]
  },
  {
   "cell_type": "code",
   "execution_count": 14,
   "metadata": {
    "ExecuteTime": {
     "end_time": "2017-12-30T19:33:12.961020Z",
     "start_time": "2017-12-30T14:33:12.944027-05:00"
    },
    "scrolled": true
   },
   "outputs": [
    {
     "name": "stdout",
     "output_type": "stream",
     "text": [
      "https://www.amazon.com/gp/product/kindle-redemption/B06Y55SB48?kinRedeem=GIFT&kinRedeemToken=GS6VS72WSTQKH3G\n"
     ]
    }
   ],
   "source": [
    "INPUT2 = 'SSSSSSSSSSSSSSSSSSSSSSSSSSSSSSSSSSSSSSSSSSSSKKKKKKKKKKKKKKKKKKKKKKKKKKKKKKKKKKKKKKKKKKKKKKKKKKK777777777777777777777777777777777777777777777555VVVVVVVVVVVVVVVVVVVVVVVVVVVVVVVVVVVVVVVVVVV6GGGGGGGGGGGGGGGGGGGGGGGGGGGGGGGGGGGGGGGGGGGGGGGGGGGGGGSSSSSSSSSSSSSSSSSSSSSSSSSSSSSSSSSSSSSSSSSSSSSSSSBBBBBBWWWWWWWWWWWWWWWWWWWWWWWWWWWWWWWWWWWWWWWWWWWWWWW2222222222222222222222222222222222222222222222SSSSS88888888TTTTTTTTTTTTTTTTTTTTTTTTTTTTTTTTTTTTTTTTTTTTTTTTT555533333333333333333333333333333333333333333333333333333YYQQQQQQQQQQQQQQQQQQQQQQQQQQQQQQQQQQQQQQQQQQQQQQQQQQ666666666666666666666666666666666666666666HHHHHHHHHHHHHHHHHHHHHHHHHHHHHHHHHHHHHHHHHHHHHHHHHHHH4444444'\n",
    "MAGIC = 53\n",
    "\n",
    "replacements = {len(reps) + MAGIC: c for reps, c in findall(r'((.)(?:\\2*))', INPUT2)}\n",
    "print(join(starmap(replacements.get, enumerate(template))))"
   ]
  },
  {
   "cell_type": "markdown",
   "metadata": {},
   "source": [
    "### Alternatives"
   ]
  },
  {
   "cell_type": "markdown",
   "metadata": {},
   "source": [
    "A simpler regular expression (it doesn't construct a group that matches both the initial character together with all its repetitions), with (slightly) more complicated code:"
   ]
  },
  {
   "cell_type": "code",
   "execution_count": 15,
   "metadata": {
    "ExecuteTime": {
     "end_time": "2017-12-30T19:46:15.530687Z",
     "start_time": "2017-12-30T14:46:15.527131-05:00"
    },
    "scrolled": false
   },
   "outputs": [
    {
     "name": "stdout",
     "output_type": "stream",
     "text": [
      "https://www.amazon.com/gp/product/kindle-redemption/B06Y55SB48?kinRedeem=GIFT&kinRedeemToken=GS6VS72WSTQKH3G\n"
     ]
    }
   ],
   "source": [
    "replacements = {1 + len(reps) + MAGIC: c for c, reps in findall(r'(.)(\\1*)', INPUT2)}\n",
    "print(join(starmap(replacements.get, enumerate(template))))"
   ]
  },
  {
   "cell_type": "markdown",
   "metadata": {},
   "source": [
    "#### Without regular expressions"
   ]
  },
  {
   "cell_type": "code",
   "execution_count": 16,
   "metadata": {
    "ExecuteTime": {
     "end_time": "2017-12-30T19:46:26.163903Z",
     "start_time": "2017-12-30T14:46:26.157452-05:00"
    },
    "scrolled": true
   },
   "outputs": [
    {
     "name": "stdout",
     "output_type": "stream",
     "text": [
      "https://www.amazon.com/gp/product/kindle-redemption/B06Y55SB48?kinRedeem=GIFT&kinRedeemToken=GS6VS72WSTQKH3G\n"
     ]
    }
   ],
   "source": [
    "replacements = dict()\n",
    "c0, reps = None, None\n",
    "for c in INPUT2:\n",
    "    if c != c0:\n",
    "        if reps:\n",
    "            replacements[MAGIC + reps] = c0\n",
    "        c0, reps = c, 0\n",
    "    reps += 1\n",
    "if reps:\n",
    "    replacements[MAGIC + reps] = c0\n",
    "\n",
    "print(join(starmap(replacements.get, enumerate(template))))"
   ]
  },
  {
   "cell_type": "markdown",
   "metadata": {},
   "source": [
    "If we're going imperative anyway, we might as well go full imperative and update the string directly:"
   ]
  },
  {
   "cell_type": "code",
   "execution_count": 17,
   "metadata": {
    "ExecuteTime": {
     "end_time": "2017-12-30T19:47:32.712382Z",
     "start_time": "2017-12-30T14:47:32.706498-05:00"
    }
   },
   "outputs": [
    {
     "name": "stdout",
     "output_type": "stream",
     "text": [
      "https://www.amazon.com/gp/product/kindle-redemption/B06Y55SB48?kinRedeem=GIFT&kinRedeemToken=GS6VS72WSTQKH3G\n"
     ]
    }
   ],
   "source": [
    "link = list(template)\n",
    "c0, reps = None, None\n",
    "for c in INPUT2:\n",
    "    if c != c0:\n",
    "        if reps:\n",
    "            link[MAGIC + reps] = c0\n",
    "        c0, reps = c, 0\n",
    "    reps += 1\n",
    "if reps:\n",
    "    link[MAGIC + reps] = c0\n",
    "\n",
    "print(join(link))"
   ]
  },
  {
   "cell_type": "markdown",
   "metadata": {},
   "source": [
    "That duplicate `if reps:` clause is annoying. Replace it with a [sentinel](https://en.wikipedia.org/wiki/Sentinel_value)."
   ]
  },
  {
   "cell_type": "code",
   "execution_count": 18,
   "metadata": {
    "ExecuteTime": {
     "end_time": "2017-12-30T19:48:41.772473Z",
     "start_time": "2017-12-30T14:48:41.767505-05:00"
    }
   },
   "outputs": [
    {
     "name": "stdout",
     "output_type": "stream",
     "text": [
      "https://www.amazon.com/gp/product/kindle-redemption/B06Y55SB48?kinRedeem=GIFT&kinRedeemToken=GS6VS72WSTQKH3G\n"
     ]
    }
   ],
   "source": [
    "link = list(template)\n",
    "assert '!' not in INPUT2\n",
    "for c in INPUT2 + '!':\n",
    "    if c != c0:\n",
    "        if reps:\n",
    "            link[MAGIC + reps] = c0\n",
    "        c0, reps = c, 0\n",
    "    reps += 1\n",
    "\n",
    "print(join(link))"
   ]
  },
  {
   "cell_type": "markdown",
   "metadata": {},
   "source": [
    "#### With an iterator\n",
    "\n",
    "We could also use [`groupby`](https://docs.python.org/3/library/itertools.html#itertools.groupby) from the [itertools module](https://docs.python.org/3/library/itertools.html)."
   ]
  },
  {
   "cell_type": "code",
   "execution_count": 19,
   "metadata": {
    "ExecuteTime": {
     "end_time": "2017-12-30T19:57:39.261107Z",
     "start_time": "2017-12-30T14:57:39.254651-05:00"
    }
   },
   "outputs": [
    {
     "name": "stdout",
     "output_type": "stream",
     "text": [
      "https://www.amazon.com/gp/product/kindle-redemption/B06Y55SB48?kinRedeem=GIFT&kinRedeemToken=GS6VS72WSTQKH3G\n"
     ]
    }
   ],
   "source": [
    "def iter_len(iterable):\n",
    "    \"Return the length of an iterable.\"\n",
    "    return sum(1 for _ in iterable)\n",
    "\n",
    "replacements = {iter_len(g) + MAGIC: c for c, g in groupby(INPUT2)}\n",
    "print(join(starmap(replacements.get, enumerate(template))))"
   ]
  }
 ],
 "metadata": {
  "anaconda-cloud": {},
  "hide_input": false,
  "kernelspec": {
   "display_name": "Python 3",
   "language": "python",
   "name": "python3"
  },
  "language_info": {
   "codemirror_mode": {
    "name": "ipython",
    "version": 3
   },
   "file_extension": ".py",
   "mimetype": "text/x-python",
   "name": "python",
   "nbconvert_exporter": "python",
   "pygments_lexer": "ipython3",
   "version": "3.5.2"
  },
  "toc": {
   "nav_menu": {
    "height": "138px",
    "width": "252px"
   },
   "navigate_menu": true,
   "number_sections": true,
   "sideBar": true,
   "threshold": 4,
   "toc_cell": false,
   "toc_section_display": "block",
   "toc_window_display": false
  }
 },
 "nbformat": 4,
 "nbformat_minor": 2
}
