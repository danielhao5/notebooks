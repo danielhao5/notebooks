{
 "cells": [
  {
   "cell_type": "markdown",
   "metadata": {},
   "source": [
    "# Advent of Code 2017\n",
    "Solutions to [Advent of Code 2017](http://adventofcode.com/2017)."
   ]
  },
  {
   "cell_type": "code",
   "execution_count": 3,
   "metadata": {
    "collapsed": true
   },
   "outputs": [],
   "source": [
    "def data(day):\n",
    "    \"Return the data for the given day.\"\n",
    "    return open('data/advent-2017/input{}.txt'.format(day)).read().strip()\n",
    "\n",
    "def expect(actual, expect):\n",
    "    if actual != expect:\n",
    "        print('Actual {} != {} expected'.format(actual, expect))"
   ]
  },
  {
   "cell_type": "markdown",
   "metadata": {},
   "source": [
    "## [Day 1](http://adventofcode.com/2017/day/1)"
   ]
  },
  {
   "cell_type": "code",
   "execution_count": 4,
   "metadata": {},
   "outputs": [
    {
     "data": {
      "text/plain": [
       "1119"
      ]
     },
     "execution_count": 4,
     "metadata": {},
     "output_type": "execute_result"
    }
   ],
   "source": [
    "def sum_same(digits):\n",
    "    return sum(int(d) for i, d in enumerate(digits) if d == digits[(i + 1) % len(digits)])\n",
    "\n",
    "expect(sum_same('1122'), 3)\n",
    "expect(sum_same('1111'), 4)\n",
    "expect(sum_same('1234'), 0)\n",
    "expect(sum_same('91212129'), 9)\n",
    "\n",
    "sum_same(data(1))"
   ]
  },
  {
   "cell_type": "code",
   "execution_count": 5,
   "metadata": {},
   "outputs": [
    {
     "data": {
      "text/plain": [
       "1420"
      ]
     },
     "execution_count": 5,
     "metadata": {},
     "output_type": "execute_result"
    }
   ],
   "source": [
    "def sum_delta(digits, delta=None):\n",
    "    delta = len(digits) // 2\n",
    "    return sum(int(d) for i, d in enumerate(digits) if d == digits[(i + delta) % len(digits)])\n",
    "\n",
    "expect(sum_delta('1212'), 6)\n",
    "expect(sum_delta('1221'), 0)\n",
    "expect(sum_delta('123425'), 4)\n",
    "expect(sum_delta('123123'), 12)\n",
    "expect(sum_delta('12131415'), 4)\n",
    "\n",
    "sum_delta(data(1))"
   ]
  },
  {
   "cell_type": "markdown",
   "metadata": {},
   "source": [
    "## [Day 2](http://adventofcode.com/2017/day/2)"
   ]
  },
  {
   "cell_type": "code",
   "execution_count": 6,
   "metadata": {},
   "outputs": [
    {
     "data": {
      "text/plain": [
       "41887"
      ]
     },
     "execution_count": 6,
     "metadata": {},
     "output_type": "execute_result"
    }
   ],
   "source": [
    "def spreadsheet(text):\n",
    "    return [list(map(int, line.split())) for line in text.splitlines()]\n",
    "\n",
    "def checksum(sheet):\n",
    "    return sum(max(row) - min(row) for row in spreadsheet(sheet))\n",
    "\n",
    "expect(checksum('''5 1 9 5\n",
    "7 5 3\n",
    "2 4 6 8'''), 18)\n",
    "\n",
    "checksum(data(2))"
   ]
  },
  {
   "cell_type": "code",
   "execution_count": 9,
   "metadata": {},
   "outputs": [
    {
     "data": {
      "text/plain": [
       "226"
      ]
     },
     "execution_count": 9,
     "metadata": {},
     "output_type": "execute_result"
    }
   ],
   "source": [
    "import itertools\n",
    "from operator import floordiv\n",
    "\n",
    "def evenly(sheet):\n",
    "    find = lambda ns: next(p // q for p, q in itertools.combinations(sorted(ns, reverse=True), 2) if p % q == 0)\n",
    "    return sum(map(find, spreadsheet(sheet)))\n",
    "\n",
    "expect(evenly('''5 9 2 8\n",
    "9 4 7 3\n",
    "3 8 6 5'''), 9)\n",
    "\n",
    "evenly(data(2))"
   ]
  }
 ],
 "metadata": {
  "anaconda-cloud": {},
  "kernelspec": {
   "display_name": "Python [conda root]",
   "language": "python",
   "name": "conda-root-py"
  },
  "language_info": {
   "codemirror_mode": {
    "name": "ipython",
    "version": 3
   },
   "file_extension": ".py",
   "mimetype": "text/x-python",
   "name": "python",
   "nbconvert_exporter": "python",
   "pygments_lexer": "ipython3",
   "version": "3.5.2"
  }
 },
 "nbformat": 4,
 "nbformat_minor": 2
}
