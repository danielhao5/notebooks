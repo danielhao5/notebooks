{
 "cells": [
  {
   "cell_type": "markdown",
   "metadata": {},
   "source": [
    "# Advent of Code 2017\n",
    "Solutions to [Advent of Code 2017](http://adventofcode.com/2017).\n",
    "\n",
    "Many days contain code duplication between part 1 and part 2.\n",
    "In general I didn't re-write part 1 once I saw part 2."
   ]
  },
  {
   "cell_type": "markdown",
   "metadata": {},
   "source": [
    "## Utility functions\n",
    "These were written as needed for a specific day, and then moved here if it looked like they'd be useful for a subsequent problem."
   ]
  },
  {
   "cell_type": "markdown",
   "metadata": {},
   "source": [
    "Iteration helpers:"
   ]
  },
  {
   "cell_type": "code",
   "execution_count": 1,
   "metadata": {
    "collapsed": true
   },
   "outputs": [],
   "source": [
    "from itertools import zip_longest\n",
    "\n",
    "def iter_len(iterable):\n",
    "    return sum(1 for _ in iterable)\n",
    "\n",
    "# from itertools recipes\n",
    "def grouper(iterable, n, fillvalue=None):\n",
    "    \"Collect data into fixed-length chunks or blocks\"\n",
    "    args = [iter(iterable)] * n\n",
    "    return zip_longest(*args, fillvalue=fillvalue)"
   ]
  },
  {
   "cell_type": "markdown",
   "metadata": {},
   "source": [
    "Examples:"
   ]
  },
  {
   "cell_type": "code",
   "execution_count": 2,
   "metadata": {},
   "outputs": [],
   "source": [
    "# Better than assert, because it prints the expected value.\n",
    "# There's plenty of test runners that due this, but using them inside Jupyter was beyond\n",
    "# me during the course of the contest.\n",
    "def example(actual, expected=True):\n",
    "    if actual != expected:\n",
    "        print('Actual = {} ≠ {} = expected'.format(actual, expected))\n",
    "\n",
    "def examples(fn, *pairs):\n",
    "    assert len(pairs) % 2 == 0, \"expected an even number of input, expected arguments; received {}\".format(len(pairs))\n",
    "    for arg, expected in grouper(pairs, 2):\n",
    "        example(fn(arg), expected)\n",
    "\n",
    "example(abs(-2), 2)\n",
    "examples(abs,\n",
    "         2, 2,\n",
    "         -2, 2)"
   ]
  },
  {
   "cell_type": "markdown",
   "metadata": {},
   "source": [
    "Helpers for input data files…"
   ]
  },
  {
   "cell_type": "code",
   "execution_count": 3,
   "metadata": {},
   "outputs": [],
   "source": [
    "class InputStr(str):\n",
    "    def __init__(self, day):\n",
    "        self.fname = 'data/advent-2017/input-{}.txt'.format(day)\n",
    "\n",
    "    @property\n",
    "    def lines(self):\n",
    "        return self.splitlines()\n",
    "\n",
    "    @property\n",
    "    def grid(self):\n",
    "        \"Given a text matrix with newlines, return a list of list of ints.\"\n",
    "        return [list(map(int, line.split()))\n",
    "                for line in self.splitlines()]\n",
    "\n",
    "    def count_filtered(self, pred):\n",
    "        return sum(map(pred, self.lines))\n",
    "\n",
    "def Input(day):\n",
    "    with open('data/advent-2017/input-{}.txt'.format(day)) as f:\n",
    "        return InputStr(f.read().rstrip('\\n'))"
   ]
  },
  {
   "cell_type": "markdown",
   "metadata": {},
   "source": [
    "…and [here strings](https://en.wikipedia.org/wiki/Here_document):"
   ]
  },
  {
   "cell_type": "code",
   "execution_count": 4,
   "metadata": {
    "scrolled": true
   },
   "outputs": [
    {
     "data": {
      "text/plain": [
       "['Reads a multiline string,', 'ignoring an initial and final', 'line break']"
      ]
     },
     "execution_count": 4,
     "metadata": {},
     "output_type": "execute_result"
    }
   ],
   "source": [
    "def Here(s):\n",
    "    return InputStr(s.strip('\\n'))\n",
    "\n",
    "def here_lines(s):\n",
    "    return Here(s).lines\n",
    "\n",
    "here_lines('''\n",
    "Reads a multiline string,\n",
    "ignoring an initial and final\n",
    "line break''')"
   ]
  },
  {
   "cell_type": "code",
   "execution_count": 5,
   "metadata": {},
   "outputs": [
    {
     "data": {
      "text/plain": [
       "[[1, 2, 3], [4, 5]]"
      ]
     },
     "execution_count": 5,
     "metadata": {},
     "output_type": "execute_result"
    }
   ],
   "source": [
    "def here_grid(s):\n",
    "    return Here(s).grid\n",
    "\n",
    "here_grid('''\n",
    "1 2 3\n",
    "4 5\n",
    "''')"
   ]
  },
  {
   "cell_type": "markdown",
   "metadata": {},
   "source": [
    "## [Day 1: Inverse Captcha](http://adventofcode.com/2017/day/1)"
   ]
  },
  {
   "cell_type": "code",
   "execution_count": 6,
   "metadata": {},
   "outputs": [
    {
     "data": {
      "text/plain": [
       "1119"
      ]
     },
     "execution_count": 6,
     "metadata": {},
     "output_type": "execute_result"
    }
   ],
   "source": [
    "def sum_same_as_next(digits):\n",
    "    return sum(int(c)\n",
    "               for i, c in enumerate(digits)\n",
    "               if c == digits[(i + 1) % len(digits)])\n",
    "\n",
    "examples(sum_same_as_next,\n",
    "         '1122', 3,\n",
    "         '1111', 4,\n",
    "         '1234', 0,\n",
    "         '91212129', 9)\n",
    "\n",
    "sum_same_as_next(Input(1))"
   ]
  },
  {
   "cell_type": "markdown",
   "metadata": {},
   "source": [
    "### Part 2"
   ]
  },
  {
   "cell_type": "code",
   "execution_count": 7,
   "metadata": {
    "scrolled": true
   },
   "outputs": [
    {
     "data": {
      "text/plain": [
       "1420"
      ]
     },
     "execution_count": 7,
     "metadata": {},
     "output_type": "execute_result"
    }
   ],
   "source": [
    "def sum_same_as_antipode(digits, delta=None):\n",
    "    delta = delta or len(digits) // 2\n",
    "    return sum(int(c)\n",
    "               for i, c in enumerate(digits)\n",
    "               if c == digits[(i + delta) % len(digits)])\n",
    "\n",
    "examples(sum_same_as_antipode,\n",
    "         '1212', 6,\n",
    "         '1221', 0,\n",
    "         '123425', 4,\n",
    "         '123123', 12,\n",
    "         '12131415', 4)\n",
    "\n",
    "sum_same_as_antipode(Input(1))"
   ]
  },
  {
   "cell_type": "markdown",
   "metadata": {},
   "source": [
    "(If I'd seen Part 2 before I wrote Part 1, I would have defined `sum_same_as_next` in terms of `sum_same_as_antipode`.)"
   ]
  },
  {
   "cell_type": "markdown",
   "metadata": {},
   "source": [
    "### Alternatives\n",
    "Here's some alternate implementations that I also had in my head when I wrote the one above. With less time pressure, I'd write them all, and keep the one that looked more maintainable.\n",
    "\n",
    "These can trivially be extended to `sum_same_as_antipode`."
   ]
  },
  {
   "cell_type": "code",
   "execution_count": 8,
   "metadata": {},
   "outputs": [
    {
     "data": {
      "text/plain": [
       "1119"
      ]
     },
     "execution_count": 8,
     "metadata": {},
     "output_type": "execute_result"
    }
   ],
   "source": [
    "def sum_same_as_next(digits):\n",
    "    buffered = digits + digits[:1]\n",
    "    return sum(int(c)\n",
    "               for i, c in enumerate(digits)\n",
    "               if c == buffered[i + 1])\n",
    "\n",
    "def sum_same_as_next(digits):\n",
    "    return sum(int(c1)\n",
    "               for c1, c2 in zip(digits, digits[1:] + digits[:1])\n",
    "               if c1 == c2)\n",
    "\n",
    "examples(sum_same_as_next,\n",
    "         '1122', 3,\n",
    "         '1111', 4,\n",
    "         '1234', 0,\n",
    "         '91212129', 9)\n",
    "\n",
    "sum_same_as_next(Input(1))"
   ]
  },
  {
   "cell_type": "markdown",
   "metadata": {},
   "source": [
    "## [Day 2: Corruption Checksum](http://adventofcode.com/2017/day/2)"
   ]
  },
  {
   "cell_type": "code",
   "execution_count": 9,
   "metadata": {},
   "outputs": [
    {
     "data": {
      "text/plain": [
       "41887"
      ]
     },
     "execution_count": 9,
     "metadata": {},
     "output_type": "execute_result"
    }
   ],
   "source": [
    "def checksum(rows):\n",
    "    return sum(max(row) - min(row) for row in rows)\n",
    "\n",
    "example(checksum(here_grid('''\n",
    "5 1 9 5\n",
    "7 5 3\n",
    "2 4 6 8''')), 18)\n",
    "\n",
    "checksum(Input(2).grid)"
   ]
  },
  {
   "cell_type": "markdown",
   "metadata": {},
   "source": [
    "### Part 2"
   ]
  },
  {
   "cell_type": "code",
   "execution_count": 10,
   "metadata": {},
   "outputs": [
    {
     "data": {
      "text/plain": [
       "226"
      ]
     },
     "execution_count": 10,
     "metadata": {},
     "output_type": "execute_result"
    }
   ],
   "source": [
    "from itertools import combinations\n",
    "\n",
    "def evenly(rows):\n",
    "    ints = lambda ns: next(p // q for q, p in combinations(sorted(set(ns)), 2) if p % q == 0)\n",
    "    return sum(map(ints, rows))\n",
    "\n",
    "example(evenly(here_grid('''\n",
    "5 9 2 8\n",
    "9 4 7 3\n",
    "3 8 6 5''')), 9)\n",
    "\n",
    "evenly(Input(2).grid)"
   ]
  },
  {
   "cell_type": "markdown",
   "metadata": {},
   "source": [
    "## [Day 3: Spiral Memory](http://adventofcode.com/2017/day/3)"
   ]
  },
  {
   "cell_type": "code",
   "execution_count": 11,
   "metadata": {},
   "outputs": [
    {
     "name": "stdout",
     "output_type": "stream",
     "text": [
      "  37   36   35   34   33   32   31\n",
      "  38   17   16   15   14   13   30\n",
      "  39   18    5    4    3   12   29\n",
      "  40   19    6    1    2   11   28\n",
      "  41   20    7    8    9   10   27\n",
      "  42   21   22   23   24   25   26\n",
      "  43   44   45   46   47   48   49\n"
     ]
    },
    {
     "data": {
      "text/plain": [
       "326"
      ]
     },
     "execution_count": 11,
     "metadata": {},
     "output_type": "execute_result"
    }
   ],
   "source": [
    "from itertools import accumulate, chain, count, repeat\n",
    "\n",
    "def spiral_steps():\n",
    "    p, r = 1, 1j\n",
    "    # one step right, one up, two left, two down, three right, three up, etc.\n",
    "    for w in count(1):\n",
    "        yield from repeat(p, w)\n",
    "        p *= r\n",
    "        yield from repeat(p, w)\n",
    "        p *= r\n",
    "\n",
    "def spiral_positions():\n",
    "    \"Generate (x, y) position along the spiral, starting at (0, 0).\"\n",
    "    def c_to_pair(c):\n",
    "        return (int(c.real), int(c.imag))\n",
    "    return map(c_to_pair, accumulate(chain([0j], spiral_steps())))\n",
    "\n",
    "def nth_spiral_position(n):\n",
    "    \"Return the x, y position of the cell that holds n.\"\n",
    "    return next(pos for i, pos in enumerate(spiral_positions(), 1) if i == n)\n",
    "\n",
    "def steps(n):\n",
    "    \"Return the Manhattan distance from 1-based nth element to the center.\"\n",
    "    x, y = nth_spiral_position(n)\n",
    "    return abs(x) + abs(y)\n",
    "\n",
    "def print_spiral(w):\n",
    "    cells = {}\n",
    "    for n, pos in enumerate(spiral_positions(), 1):\n",
    "        x, y = pos\n",
    "        if max(abs(x), abs(y)) > w:\n",
    "            break\n",
    "        cells[pos] = n\n",
    "    for y in range(w, -w-1, -1):\n",
    "        ns = [cells.get((x, y), None) for x in range(-w, w+1)]\n",
    "        xs = ['{:4d}'.format(n) if n else '    ' for n in ns]\n",
    "        print(' '.join(xs))\n",
    "\n",
    "print_spiral(3)\n",
    "\n",
    "examples(steps,\n",
    "         1, 0,\n",
    "         12, 3,\n",
    "         23, 2,\n",
    "         1024, 31)\n",
    "\n",
    "steps(361527)"
   ]
  },
  {
   "cell_type": "markdown",
   "metadata": {},
   "source": [
    "### Part 2"
   ]
  },
  {
   "cell_type": "code",
   "execution_count": 12,
   "metadata": {},
   "outputs": [
    {
     "data": {
      "text/plain": [
       "363010"
      ]
     },
     "execution_count": 12,
     "metadata": {},
     "output_type": "execute_result"
    }
   ],
   "source": [
    "from collections import defaultdict\n",
    "\n",
    "def neighbors(pos):\n",
    "    x, y = pos\n",
    "    return ((x + dx, y + dy)\n",
    "            for dx in (-1, 0, 1)\n",
    "            for dy in (-1, 0, 1)\n",
    "            if dx or dy)\n",
    "\n",
    "def spiral_sums():\n",
    "    m = defaultdict(int)\n",
    "    for pos in spiral_positions():\n",
    "        a = sum(m[n] for n in neighbors(pos)) or 1\n",
    "        m[pos] = a\n",
    "        yield a\n",
    "\n",
    "next(n for n in spiral_sums() if n > 361527)"
   ]
  },
  {
   "cell_type": "markdown",
   "metadata": {},
   "source": [
    "### Alternatives\n",
    "\n",
    "I kind of like these better, but they read more like Haskell, less like idiomatic Python (as evident from the imports).\n",
    "\n",
    "Where I to start over, I'd change `spiral_positions` to return complex numbers instead of tuples, and change its consumers to expect them."
   ]
  },
  {
   "cell_type": "code",
   "execution_count": 13,
   "metadata": {
    "scrolled": true
   },
   "outputs": [
    {
     "name": "stdout",
     "output_type": "stream",
     "text": [
      "37 36 35 34 33 32 31\n",
      "38 17 16 15 14 13 30\n",
      "39 18  5  4  3 12 29\n",
      "40 19  6  1  2 11 28\n",
      "41 20  7  8  9 10 27\n",
      "42 21 22 23 24 25 26\n",
      "43 44 45 46 47 48 49\n"
     ]
    }
   ],
   "source": [
    "from functools import reduce\n",
    "from itertools import accumulate, chain, islice\n",
    "from operator import add\n",
    "\n",
    "def spiral_positions():\n",
    "    turns = (1j ** n for n in count())\n",
    "    sides = (w for n in count(1) for w in (n, n))  # number of steps in each direction\n",
    "    steps = (d for n, d in zip(sides, turns) for _ in range(n))\n",
    "    yield (0, 0)\n",
    "    yield from ((int(c.real), int(c.imag)) for c in accumulate(steps, add))\n",
    "\n",
    "def print_spiral(w):\n",
    "    h = w // 2\n",
    "    cells = {pos: n for n, pos in enumerate(islice(spiral_positions(), w**2), 1)}\n",
    "    row = lambda y:[cells.get((x, y), '') for x in range(-h, h+1)]\n",
    "    cell_width = max(len(str(n)) for n in cells.values())\n",
    "    def fmt(n): return '{:{}}'.format(n, cell_width)\n",
    "    for y in range(h, -h-1, -1):\n",
    "        print(' '.join(map(fmt, row(y))))\n",
    "\n",
    "print_spiral(7)"
   ]
  },
  {
   "cell_type": "markdown",
   "metadata": {},
   "source": [
    "## [Day 4: High-Entropy Passphrases](http://adventofcode.com/2017/day/4)"
   ]
  },
  {
   "cell_type": "code",
   "execution_count": 14,
   "metadata": {},
   "outputs": [
    {
     "data": {
      "text/plain": [
       "383"
      ]
     },
     "execution_count": 14,
     "metadata": {},
     "output_type": "execute_result"
    }
   ],
   "source": [
    "def valid_passphrase(phrase):\n",
    "    ws = phrase.split()\n",
    "    return len(ws) == len(set(ws))\n",
    "\n",
    "examples(valid_passphrase,\n",
    "         'aa bb cc dd ee', True,\n",
    "         'aa bb cc dd aa', False,\n",
    "         'aa bb cc dd aaa', True)\n",
    "\n",
    "Input(4).count_filtered(valid_passphrase)"
   ]
  },
  {
   "cell_type": "code",
   "execution_count": 15,
   "metadata": {},
   "outputs": [
    {
     "data": {
      "text/plain": [
       "265"
      ]
     },
     "execution_count": 15,
     "metadata": {},
     "output_type": "execute_result"
    }
   ],
   "source": [
    "def valid_passphrase(phrase):\n",
    "    ws = phrase.split()\n",
    "    return len(ws) == len(set(''.join(sorted(w)) for w in ws))\n",
    "\n",
    "examples(valid_passphrase,\n",
    "         'abcde fghij', True,\n",
    "         'abcde xyz ecdab', False,\n",
    "         'a ab abc abd abf abj', True,\n",
    "         'iiii oiii ooii oooi oooo', True,\n",
    "         'oiii ioii iioi iiio', False)\n",
    "\n",
    "Input(4).count_filtered(valid_passphrase)"
   ]
  },
  {
   "cell_type": "markdown",
   "metadata": {},
   "source": [
    "## [Day 5: A Maze of Twisty Trampolines, All Alike](http://adventofcode.com/2017/day/5)"
   ]
  },
  {
   "cell_type": "code",
   "execution_count": 16,
   "metadata": {},
   "outputs": [
    {
     "data": {
      "text/plain": [
       "372139"
      ]
     },
     "execution_count": 16,
     "metadata": {},
     "output_type": "execute_result"
    }
   ],
   "source": [
    "def iter_jumps(lines):\n",
    "    jumps = list(map(int, lines))\n",
    "    pc = 0\n",
    "    while 0 <= pc < len(jumps):\n",
    "        yield pc\n",
    "        n = jumps[pc]\n",
    "        jumps[pc] += 1\n",
    "        pc += n\n",
    "\n",
    "jumps = here_lines('''\n",
    "0\n",
    "3\n",
    "0\n",
    "1\n",
    "-3''')\n",
    "\n",
    "def jump_count(lines):\n",
    "    return iter_len(iter_jumps(lines))\n",
    "\n",
    "example(jump_count(jumps), 5)\n",
    "jump_count(Input(5).lines)"
   ]
  },
  {
   "cell_type": "code",
   "execution_count": 17,
   "metadata": {
    "scrolled": true
   },
   "outputs": [
    {
     "data": {
      "text/plain": [
       "29629538"
      ]
     },
     "execution_count": 17,
     "metadata": {},
     "output_type": "execute_result"
    }
   ],
   "source": [
    "def iter_jumps(lines):\n",
    "    jumps = list(map(int, lines))\n",
    "    pc = 0\n",
    "    while 0 <= pc < len(jumps):\n",
    "        yield pc\n",
    "        n = jumps[pc]\n",
    "        jumps[pc] += -1 if n >= 3 else 1\n",
    "        pc += n\n",
    "\n",
    "example(jump_count(jumps), 10)\n",
    "jump_count(Input(5).lines)"
   ]
  },
  {
   "cell_type": "markdown",
   "metadata": {},
   "source": [
    "## [Day 6: Memory Reallocation](http://adventofcode.com/2017/day/6)"
   ]
  },
  {
   "cell_type": "code",
   "execution_count": 18,
   "metadata": {},
   "outputs": [
    {
     "data": {
      "text/plain": [
       "'cdefab'"
      ]
     },
     "execution_count": 18,
     "metadata": {},
     "output_type": "execute_result"
    }
   ],
   "source": [
    "def rot(seq, n):\n",
    "    \"Rotate left by n\"\n",
    "    return seq[n:] + seq[:n]\n",
    "\n",
    "rot('abcdef', 2)"
   ]
  },
  {
   "cell_type": "code",
   "execution_count": 19,
   "metadata": {},
   "outputs": [
    {
     "data": {
      "text/plain": [
       "5042"
      ]
     },
     "execution_count": 19,
     "metadata": {},
     "output_type": "execute_result"
    }
   ],
   "source": [
    "from operator import add\n",
    "from itertools import count, starmap\n",
    "\n",
    "def redistribute(banks):\n",
    "    N = len(banks)\n",
    "    m = max(banks)\n",
    "    b = banks.index(m)\n",
    "    q, r = divmod(m, N)\n",
    "    zeroed = banks[:b] + (0,) + banks[b+1:]  # banks, with the donor set to zero\n",
    "    deltas = [q + 1] * r + [q] * (N - r)\n",
    "    return tuple(starmap(add, zip(zeroed, rot(deltas, -b-1))))\n",
    "\n",
    "def iter_configs(banks):\n",
    "    banks = tuple(banks)\n",
    "    seen = set()\n",
    "    while banks not in seen:\n",
    "        yield banks\n",
    "        seen.add(banks)\n",
    "        banks = tuple(redistribute(banks))\n",
    "\n",
    "def count_configs(banks):\n",
    "    return iter_len(iter_configs(banks))\n",
    "\n",
    "example(count_configs([0, 2, 7, 0]), 5)\n",
    "count_configs(map(int, Input(6).split()))"
   ]
  },
  {
   "cell_type": "markdown",
   "metadata": {},
   "source": [
    "### Part 2"
   ]
  },
  {
   "cell_type": "code",
   "execution_count": 20,
   "metadata": {},
   "outputs": [
    {
     "data": {
      "text/plain": [
       "1086"
      ]
     },
     "execution_count": 20,
     "metadata": {},
     "output_type": "execute_result"
    }
   ],
   "source": [
    "def iter_last(iterable, defaultvalue=None):\n",
    "    item = defaultvalue\n",
    "    for item in iterable:\n",
    "        pass\n",
    "    return item\n",
    "    \n",
    "def cycle_size(banks):\n",
    "    c = iter_last(iter_configs(banks))\n",
    "    return(iter_len(iter_configs(c)))\n",
    "\n",
    "example(cycle_size([0, 2, 7, 0]), 4)\n",
    "cycle_size(map(int, Input(6).split()))"
   ]
  },
  {
   "cell_type": "markdown",
   "metadata": {},
   "source": [
    "## [Day 7: Recursive Circus](http://adventofcode.com/2017/day/7)"
   ]
  },
  {
   "cell_type": "code",
   "execution_count": 21,
   "metadata": {},
   "outputs": [
    {
     "data": {
      "text/plain": [
       "'rqwgj'"
      ]
     },
     "execution_count": 21,
     "metadata": {},
     "output_type": "execute_result"
    }
   ],
   "source": [
    "import operator\n",
    "import re\n",
    "from collections import namedtuple\n",
    "from functools import reduce\n",
    "\n",
    "Disc = namedtuple('Disc', ['name', 'weight', 'child_names'])\n",
    "\n",
    "def parse(lines):\n",
    "    discs = {}\n",
    "    for line in lines:\n",
    "        name, weight, children = re.match(r'(\\S+) \\((\\d+)\\)(?: -> (.+))?', line).groups()\n",
    "        children = children and children.split(', ') or ()\n",
    "        discs[name] = Disc(name, int(weight), frozenset(children))\n",
    "    return discs\n",
    "\n",
    "def bottom(lines):\n",
    "    tower = parse(lines)\n",
    "    discs = tower.values()\n",
    "    bottoms = {d.name for d in discs} - reduce(operator.ior, (d.child_names for d in discs))\n",
    "    assert len(bottoms) == 1\n",
    "    return list(bottoms)[0]\n",
    "\n",
    "example(bottom(here_lines('''\n",
    "pbga (66)\n",
    "xhth (57)\n",
    "ebii (61)\n",
    "havc (66)\n",
    "ktlj (57)\n",
    "fwft (72) -> ktlj, cntj, xhth\n",
    "qoyq (66)\n",
    "padx (45) -> pbga, havc, qoyq\n",
    "tknk (41) -> ugml, padx, fwft\n",
    "jptl (61)\n",
    "ugml (68) -> gyxo, ebii, jptl\n",
    "gyxo (61)\n",
    "cntj (57)''')), 'tknk')\n",
    "\n",
    "bottom(Input(7).lines)"
   ]
  },
  {
   "cell_type": "code",
   "execution_count": 22,
   "metadata": {
    "scrolled": false
   },
   "outputs": [
    {
     "data": {
      "text/plain": [
       "34386"
      ]
     },
     "execution_count": 22,
     "metadata": {},
     "output_type": "execute_result"
    }
   ],
   "source": [
    "from functools import lru_cache\n",
    "from collections import Counter\n",
    "\n",
    "def mismatched(tower):\n",
    "    \"Generates pairs (disc, weight) of discs that would need weight to match their siblings.\"\n",
    "    def children(disc):\n",
    "        return [tower[s] for s in disc.child_names]\n",
    "    @lru_cache()\n",
    "    def inclusive_weight(disc):\n",
    "        return disc.weight + sum(map(inclusive_weight, children(disc)))\n",
    "    for d in tower.values():\n",
    "        weights = [inclusive_weight(c) for c in children(d)]\n",
    "        if len(set(weights)) > 1:\n",
    "            # if there's two weights, the one occurs only once (not checked here); the other is good\n",
    "            bad_weight, good_weight = (w for w, _ in sorted(Counter(weights).items(), key=lambda t:t[1]))\n",
    "            bad_child = next(c for c in children(d) if inclusive_weight(c) == bad_weight)\n",
    "            yield bad_child, bad_child.weight + good_weight - bad_weight\n",
    "\n",
    "def correction(lines):\n",
    "    tower = parse(lines)\n",
    "    candidates = list(mismatched(tower))\n",
    "    def descendant_names(d):\n",
    "        return reduce(operator.ior, (descendant_names(tower[c]) for c in d.child_names), set(d.child_names))\n",
    "    subsumed = reduce(operator.ior, (descendant_names(d) for d, _ in candidates))\n",
    "    w, = [w for d, w in candidates if d.name not in subsumed]\n",
    "    return w\n",
    "\n",
    "example(correction(here_lines('''\n",
    "pbga (66)\n",
    "xhth (57)\n",
    "ebii (61)\n",
    "havc (66)\n",
    "ktlj (57)\n",
    "fwft (72) -> ktlj, cntj, xhth\n",
    "qoyq (66)\n",
    "padx (45) -> pbga, havc, qoyq\n",
    "tknk (41) -> ugml, padx, fwft\n",
    "jptl (61)\n",
    "ugml (68) -> gyxo, ebii, jptl\n",
    "gyxo (61)\n",
    "cntj (57)''')), 60)\n",
    "\n",
    "correction(Input(7).lines)"
   ]
  },
  {
   "cell_type": "markdown",
   "metadata": {},
   "source": [
    "## [Day 8: I Heard You Like Registers](http://adventofcode.com/2017/day/8)"
   ]
  },
  {
   "cell_type": "code",
   "execution_count": 23,
   "metadata": {},
   "outputs": [
    {
     "data": {
      "text/plain": [
       "4877"
      ]
     },
     "execution_count": 23,
     "metadata": {},
     "output_type": "execute_result"
    }
   ],
   "source": [
    "import re\n",
    "from collections import defaultdict, namedtuple\n",
    "from operator import ge, le, gt, lt, eq, ne, add, sub\n",
    "\n",
    "class converting_tuple(object):\n",
    "    \"\"\"This is like namedtuple, but converts each value as it's stored.\n",
    "    \n",
    "    It's not actually a class like namedtuple, but it pretends to have a constructor.\"\"\"\n",
    "    def __init__(self, name, matcher=None, **converters):\n",
    "        self.converters = converters\n",
    "        self.constr = namedtuple(name, converters.keys())\n",
    "        self.matcher = re.compile(matcher).match if isinstance(matcher, str) else matcher\n",
    "        \n",
    "    def __call__(self, d):\n",
    "        if isinstance(d, str):\n",
    "            d = self.matcher(d).groupdict()\n",
    "        return self.constr(*(fn(d[k]) for k, fn in self.converters.items()))\n",
    "\n",
    "ops = {'inc': add, 'dec': sub}\n",
    "rels = {'>': gt, '<': lt, '>=': ge, '<=': le, '==': eq, '!=': ne}\n",
    "Instr = converting_tuple('instr',\n",
    "                         r'(?P<v1>\\w+) (?P<op>inc|dec) (?P<k1>-?\\d+) if (?P<v2>\\w+) (?P<rel>\\S+) (?P<k2>-?\\d+)',\n",
    "                         v1=str, v2=str, k1=int, k2=int, rel=rels.__getitem__, op=ops.__getitem__)\n",
    "\n",
    "def max_register_value(lines):\n",
    "    regs = defaultdict(int)\n",
    "    for instr in map(Instr, lines):\n",
    "        if instr.rel(regs[instr.v2], instr.k2):\n",
    "            regs[instr.v1] = instr.op(regs[instr.v1], instr.k1)\n",
    "    return max(regs.values())\n",
    "\n",
    "example(max_register_value(here_lines('''\n",
    "b inc 5 if a > 1\n",
    "a inc 1 if b < 5\n",
    "c dec -10 if a >= 1\n",
    "c inc -20 if c == 10''')), 1)\n",
    "\n",
    "max_register_value(Input(8).lines)"
   ]
  },
  {
   "cell_type": "code",
   "execution_count": 24,
   "metadata": {
    "scrolled": true
   },
   "outputs": [
    {
     "data": {
      "text/plain": [
       "5471"
      ]
     },
     "execution_count": 24,
     "metadata": {},
     "output_type": "execute_result"
    }
   ],
   "source": [
    "# I would have written part 1's max_register_value in terms of these, if I'd known what was coming.\n",
    "# Instead, this is remixed from that.\n",
    "def iter_registers_map(lines):\n",
    "    regs = defaultdict(int)\n",
    "    for instr in map(Instr, lines):\n",
    "        if instr.rel(regs[instr.v2], instr.k2):\n",
    "            regs[instr.v1] = instr.op(regs[instr.v1], instr.k1)\n",
    "            yield regs\n",
    "\n",
    "def max_register_value(lines):\n",
    "    return max(v for regs in iter_registers_map(lines) for v in regs.values())\n",
    "\n",
    "example(max_register_value(here_lines('''\n",
    "b inc 5 if a > 1\n",
    "a inc 1 if b < 5\n",
    "c dec -10 if a >= 1\n",
    "c inc -20 if c == 10''')), 10)\n",
    "\n",
    "max_register_value(Input(8).lines)"
   ]
  },
  {
   "cell_type": "markdown",
   "metadata": {},
   "source": [
    "## [Day 9: Stream Processing](http://adventofcode.com/2017/day/9)"
   ]
  },
  {
   "cell_type": "code",
   "execution_count": 25,
   "metadata": {},
   "outputs": [
    {
     "data": {
      "text/plain": [
       "7616"
      ]
     },
     "execution_count": 25,
     "metadata": {},
     "output_type": "execute_result"
    }
   ],
   "source": [
    "def count_groups(s):\n",
    "    s = re.sub(r'!.', '', s)\n",
    "    s = re.sub(r'<.*?>', '', s)\n",
    "    return sum(c == '{' for c in s)\n",
    "\n",
    "examples(count_groups,\n",
    "         '{}', 1,\n",
    "         '{{{}}}', 3,\n",
    "         '{{},{}}', 3,\n",
    "         '{{{},{},{{}}}}', 6,\n",
    "         '{<{},{},{{}}>}', 1,\n",
    "         '{<a>,<a>,<a>,<a>}', 1,\n",
    "         '{{<a>},{<a>},{<a>},{<a>}}', 5,\n",
    "         '{{<!>},{<!>},{<!>},{<a>}}', 2,\n",
    "        )\n",
    "\n",
    "def iter_group_depths(s):\n",
    "    s = re.sub(r'!.', '', s)\n",
    "    s = re.sub(r'<.*?>', '', s)\n",
    "    depth = 0\n",
    "    deltas = {'{': 1, '}': -1}\n",
    "    yield depth\n",
    "    for c in s:\n",
    "        if c in deltas:\n",
    "            delta = deltas[c]\n",
    "            depth += delta\n",
    "            if delta > 0:\n",
    "                yield depth\n",
    "\n",
    "def sum_groups(line):\n",
    "    return sum(iter_group_depths(line))\n",
    "\n",
    "examples(sum_groups,\n",
    "         '{}', 1,\n",
    "         '{{{}}}', 6,\n",
    "         '{{},{}}', 5,\n",
    "         '{{{},{},{{}}}}', 16,\n",
    "         '{<a>,<a>,<a>,<a>}', 1,\n",
    "         '{{<ab>},{<ab>},{<ab>},{<ab>}}', 9,\n",
    "         '{{<!!>},{<!!>},{<!!>},{<!!>}}', 9,\n",
    "         '{{<a!>},{<a!>},{<a!>},{<ab>}}', 3,\n",
    "        )\n",
    "\n",
    "sum_groups(Input(9))"
   ]
  },
  {
   "cell_type": "code",
   "execution_count": 26,
   "metadata": {
    "scrolled": true
   },
   "outputs": [
    {
     "data": {
      "text/plain": [
       "3838"
      ]
     },
     "execution_count": 26,
     "metadata": {},
     "output_type": "execute_result"
    }
   ],
   "source": [
    "def sum_garbage_lengths(s):\n",
    "    s = re.sub(r'!.', '', s)\n",
    "    return sum(map(len, re.findall(r'<(.*?)>', s)))\n",
    "    \n",
    "examples(sum_garbage_lengths,\n",
    "         '<>', 0,\n",
    "         '<random characters>', 17,\n",
    "         '<<<<>', 3,\n",
    "         '<{!>}>', 2,\n",
    "         '<!!>', 0,\n",
    "         '<!!!>>', 0,\n",
    "         '<{o\"i!a,<{i<a>', 10,\n",
    "        )\n",
    "\n",
    "sum_garbage_lengths(Input(9))"
   ]
  },
  {
   "cell_type": "markdown",
   "metadata": {},
   "source": [
    "## [Day 10: Knot Hash](http://adventofcode.com/2017/day/10)"
   ]
  },
  {
   "cell_type": "code",
   "execution_count": 27,
   "metadata": {
    "scrolled": true
   },
   "outputs": [
    {
     "data": {
      "text/plain": [
       "40602"
      ]
     },
     "execution_count": 27,
     "metadata": {},
     "output_type": "execute_result"
    }
   ],
   "source": [
    "def knot_hash(lengths, lst=range(256)):\n",
    "    lst = list(lst)\n",
    "    pos = 0\n",
    "    for skip, n in enumerate(lengths):\n",
    "        lst = rot(lst, pos)\n",
    "        lst[:n] = lst[n-1::-1]\n",
    "        lst = rot(lst, -pos)\n",
    "        pos += n + skip\n",
    "        pos %= len(lst)\n",
    "    return lst\n",
    "\n",
    "def knot_hash_mul(lengths, lst=range(256)):\n",
    "    a, b, *_ = knot_hash(lengths, lst)\n",
    "    return a * b\n",
    "\n",
    "assert knot_hash([3, 4, 1, 5], range(5),) == [3, 4, 2, 1, 0]\n",
    "assert knot_hash_mul([3, 4, 1, 5], range(5),) == 12\n",
    "\n",
    "knot_hash_mul(map(int, Input(10).split(',')))"
   ]
  },
  {
   "cell_type": "code",
   "execution_count": 28,
   "metadata": {
    "scrolled": false
   },
   "outputs": [
    {
     "data": {
      "text/plain": [
       "'35b028fe2c958793f7d5a61d07a008c8'"
      ]
     },
     "execution_count": 28,
     "metadata": {},
     "output_type": "execute_result"
    }
   ],
   "source": [
    "def knot_hash_rounds(chars, lst=range(256)):\n",
    "    lengths = list(map(ord, chars)) + [17, 31, 73, 47, 23]\n",
    "    sparse = knot_hash(lengths * 64, lst)\n",
    "    dense = (reduce(operator.xor, block) for block in grouper(sparse, 16))\n",
    "    return ''.join(map('{:02x}'.format, dense))\n",
    "\n",
    "examples(knot_hash_rounds,\n",
    "         '', 'a2582a3a0e66e6e86e3812dcb672a272',\n",
    "         'AoC 2017', '33efeb34ea91902bb2f59c9920caa6cd',\n",
    "         '1,2,3', '3efbe78a8d82f29979031a4aa0b16a9d',\n",
    "         '1,2,4', '63960835bcdc130f0b66d7ff4f6a5a8e'\n",
    "        )\n",
    "knot_hash_rounds(Input(10))"
   ]
  },
  {
   "cell_type": "markdown",
   "metadata": {},
   "source": [
    "## [Day 11: Hex Ed](http://adventofcode.com/2017/day/11)"
   ]
  },
  {
   "cell_type": "code",
   "execution_count": 34,
   "metadata": {},
   "outputs": [
    {
     "data": {
      "text/plain": [
       "687"
      ]
     },
     "execution_count": 34,
     "metadata": {},
     "output_type": "execute_result"
    }
   ],
   "source": [
    "HEX_DIRS = {'n': 1, 's': -1, 'ne': 1j, 'sw': -1j, 'nw': 1-1j, 'se': -1+1j}\n",
    "\n",
    "def walk(stepstr):\n",
    "    \"\"\"Return axial coordinates\"\"\"\n",
    "    return sum(map(HEX_DIRS.__getitem__, stepstr.split(',')))\n",
    "\n",
    "def hex_len(p):\n",
    "    \"\"\"Return the Manhattan length of a hex grid axial vector.\"\"\"\n",
    "    q, r = p.real, p.imag\n",
    "    return int(max(map(abs, (q, r, q + r))))\n",
    "\n",
    "def hex_distance(stepstr):\n",
    "    return hex_len(walk(stepstr))\n",
    "\n",
    "examples(hex_distance,\n",
    "         'ne,ne,ne', 3,\n",
    "         'ne,ne,sw,sw', 0,\n",
    "         'ne,ne,s,s', 2,\n",
    "         'se,sw,se,sw,sw', 3\n",
    "        )\n",
    "\n",
    "hex_distance(Input(11))"
   ]
  },
  {
   "cell_type": "code",
   "execution_count": 30,
   "metadata": {},
   "outputs": [
    {
     "data": {
      "text/plain": [
       "1483"
      ]
     },
     "execution_count": 30,
     "metadata": {},
     "output_type": "execute_result"
    }
   ],
   "source": [
    "from itertools import accumulate\n",
    "\n",
    "def iter_walk(stepstr):\n",
    "    return accumulate(map(HEX_DIRS.__getitem__, stepstr.split(',')))\n",
    "\n",
    "max(map(hex_len, iter_walk(Input(11))))"
   ]
  }
 ],
 "metadata": {
  "anaconda-cloud": {},
  "kernelspec": {
   "display_name": "Python [conda root]",
   "language": "python",
   "name": "conda-root-py"
  },
  "language_info": {
   "codemirror_mode": {
    "name": "ipython",
    "version": 3
   },
   "file_extension": ".py",
   "mimetype": "text/x-python",
   "name": "python",
   "nbconvert_exporter": "python",
   "pygments_lexer": "ipython3",
   "version": "3.5.2"
  }
 },
 "nbformat": 4,
 "nbformat_minor": 2
}
