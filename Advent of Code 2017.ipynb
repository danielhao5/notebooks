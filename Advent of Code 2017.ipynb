{
 "cells": [
  {
   "cell_type": "markdown",
   "metadata": {},
   "source": [
    "# Advent of Code 2017\n",
    "Solutions to [Advent of Code 2017](http://adventofcode.com/2017)."
   ]
  },
  {
   "cell_type": "code",
   "execution_count": 1,
   "metadata": {
    "collapsed": true
   },
   "outputs": [],
   "source": [
    "def data(day):\n",
    "    \"Return the data for the given day.\"\n",
    "    return open('data/advent-2017/input{}.txt'.format(day)).read().strip()\n",
    "\n",
    "def expect(actual, expect):\n",
    "    if actual != expect:\n",
    "        print('Actual {} != {} expected'.format(actual, expect))"
   ]
  },
  {
   "cell_type": "markdown",
   "metadata": {},
   "source": [
    "## [Day 1](http://adventofcode.com/2017/day/1)"
   ]
  },
  {
   "cell_type": "code",
   "execution_count": 2,
   "metadata": {},
   "outputs": [
    {
     "data": {
      "text/plain": [
       "1119"
      ]
     },
     "execution_count": 2,
     "metadata": {},
     "output_type": "execute_result"
    }
   ],
   "source": [
    "def sum_same(digits):\n",
    "    return sum(int(d) for i, d in enumerate(digits) if d == digits[(i + 1) % len(digits)])\n",
    "\n",
    "expect(sum_same('1122'), 3)\n",
    "expect(sum_same('1111'), 4)\n",
    "expect(sum_same('1234'), 0)\n",
    "expect(sum_same('91212129'), 9)\n",
    "\n",
    "sum_same(data(1))"
   ]
  },
  {
   "cell_type": "code",
   "execution_count": 3,
   "metadata": {},
   "outputs": [
    {
     "data": {
      "text/plain": [
       "1420"
      ]
     },
     "execution_count": 3,
     "metadata": {},
     "output_type": "execute_result"
    }
   ],
   "source": [
    "def sum_delta(digits, delta=None):\n",
    "    delta = len(digits) // 2\n",
    "    return sum(int(d) for i, d in enumerate(digits)\n",
    "               if d == digits[(i + delta) % len(digits)])\n",
    "\n",
    "expect(sum_delta('1212'), 6)\n",
    "expect(sum_delta('1221'), 0)\n",
    "expect(sum_delta('123425'), 4)\n",
    "expect(sum_delta('123123'), 12)\n",
    "expect(sum_delta('12131415'), 4)\n",
    "\n",
    "sum_delta(data(1))"
   ]
  },
  {
   "cell_type": "markdown",
   "metadata": {},
   "source": [
    "## [Day 2](http://adventofcode.com/2017/day/2)"
   ]
  },
  {
   "cell_type": "code",
   "execution_count": 4,
   "metadata": {},
   "outputs": [
    {
     "data": {
      "text/plain": [
       "41887"
      ]
     },
     "execution_count": 4,
     "metadata": {},
     "output_type": "execute_result"
    }
   ],
   "source": [
    "def spreadsheet(text):\n",
    "    return [list(map(int, line.split()))\n",
    "            for line in text.splitlines()]\n",
    "\n",
    "def checksum(sheet):\n",
    "    return sum(max(row) - min(row) for row in spreadsheet(sheet))\n",
    "\n",
    "expect(checksum('''5 1 9 5\n",
    "7 5 3\n",
    "2 4 6 8'''), 18)\n",
    "\n",
    "checksum(data(2))"
   ]
  },
  {
   "cell_type": "code",
   "execution_count": 5,
   "metadata": {},
   "outputs": [
    {
     "data": {
      "text/plain": [
       "226"
      ]
     },
     "execution_count": 5,
     "metadata": {},
     "output_type": "execute_result"
    }
   ],
   "source": [
    "from itertools import combinations\n",
    "\n",
    "def evenly(sheet):\n",
    "    ints = lambda ns: next(p // q for q, p in combinations(sorted(set(ns)), 2) if p % q == 0)\n",
    "    return sum(map(ints, spreadsheet(sheet)))\n",
    "\n",
    "expect(evenly('''5 9 2 8\n",
    "9 4 7 3\n",
    "3 8 6 5'''), 9)\n",
    "\n",
    "evenly(data(2))"
   ]
  },
  {
   "cell_type": "markdown",
   "metadata": {},
   "source": [
    "## [Day 3](http://adventofcode.com/2017/day/3)"
   ]
  },
  {
   "cell_type": "code",
   "execution_count": 6,
   "metadata": {},
   "outputs": [
    {
     "name": "stdout",
     "output_type": "stream",
     "text": [
      "  37   36   35   34   33   32   31\n",
      "  38   17   16   15   14   13   30\n",
      "  39   18    5    4    3   12   29\n",
      "  40   19    6    1    2   11   28\n",
      "  41   20    7    8    9   10   27\n",
      "  42   21   22   23   24   25   26\n",
      "  43   44   45   46   47   48   49\n"
     ]
    },
    {
     "data": {
      "text/plain": [
       "326"
      ]
     },
     "execution_count": 6,
     "metadata": {},
     "output_type": "execute_result"
    }
   ],
   "source": [
    "from itertools import count\n",
    "\n",
    "def spiral_positions():\n",
    "    c, d = 0j, 1+0j\n",
    "    for w in count(1):\n",
    "        for _ in range(2):\n",
    "            for _ in range(w):\n",
    "                yield int(c.real), int(c.imag)\n",
    "                c += d\n",
    "            d *= 1j\n",
    "\n",
    "def spiral_positions():\n",
    "    c, d, w = 0j, 1+0j, 0\n",
    "    while True:\n",
    "        if d.real:\n",
    "            w += 1\n",
    "        for _ in range(w):\n",
    "            yield int(c.real), int(c.imag)\n",
    "            c += d\n",
    "        d *= 1j\n",
    "\n",
    "def spiral_position(n):\n",
    "    \"Returns the x, y position of the cell that holds n.\"\n",
    "    return next(pos for i, pos in enumerate(spiral_positions(), 1) if i == n)\n",
    "\n",
    "def steps(n):\n",
    "    \"Steps to carry the 1-based nth element to the center.\"\n",
    "    x, y = spiral_position(n)\n",
    "    return abs(x) + abs(y)\n",
    "\n",
    "def print_spiral(w):\n",
    "    cells = {}\n",
    "    for n, pos in enumerate(spiral_positions(), 1):\n",
    "        x, y = pos\n",
    "        if max(abs(x), abs(y)) > w:\n",
    "            break\n",
    "        cells[pos] = n\n",
    "    for y in range(w, -w-1, -1):\n",
    "        ns = [cells.get((x, y), None) for x in range(-w, w+1)]\n",
    "        xs = ['{:4d}'.format(n) if n else '    ' for n in ns]\n",
    "        print(' '.join(xs))\n",
    "\n",
    "print_spiral(3)\n",
    "\n",
    "expect(steps(1), 0)\n",
    "expect(steps(12), 3)\n",
    "expect(steps(23), 2)\n",
    "expect(steps(1024), 31)\n",
    "\n",
    "steps(361527)"
   ]
  },
  {
   "cell_type": "code",
   "execution_count": 7,
   "metadata": {},
   "outputs": [
    {
     "data": {
      "text/plain": [
       "363010"
      ]
     },
     "execution_count": 7,
     "metadata": {},
     "output_type": "execute_result"
    }
   ],
   "source": [
    "from collections import defaultdict\n",
    "\n",
    "def neighbors(pos):\n",
    "    x, y = pos\n",
    "    return ((x + dx, y + dy)\n",
    "            for dx in (-1, 0, 1)\n",
    "            for dy in (-1, 0, 1)\n",
    "            if dx or dy)\n",
    "\n",
    "def spiral_sums():\n",
    "    m = defaultdict(int)\n",
    "    for i, pos in enumerate(spiral_positions()):\n",
    "        a = sum(m[n] for n in neighbors(pos)) if i else 1\n",
    "        m[pos] = a\n",
    "        yield a\n",
    "\n",
    "next(n for n in spiral_sums() if n > 361527)"
   ]
  }
 ],
 "metadata": {
  "anaconda-cloud": {},
  "kernelspec": {
   "display_name": "Python [conda root]",
   "language": "python",
   "name": "conda-root-py"
  },
  "language_info": {
   "codemirror_mode": {
    "name": "ipython",
    "version": 3
   },
   "file_extension": ".py",
   "mimetype": "text/x-python",
   "name": "python",
   "nbconvert_exporter": "python",
   "pygments_lexer": "ipython3",
   "version": "3.5.2"
  }
 },
 "nbformat": 4,
 "nbformat_minor": 2
}
